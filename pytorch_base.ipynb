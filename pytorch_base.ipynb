{
 "cells": [
  {
   "cell_type": "code",
   "execution_count": 1,
   "metadata": {},
   "outputs": [],
   "source": [
    "import torch"
   ]
  },
  {
   "cell_type": "code",
   "execution_count": 2,
   "metadata": {},
   "outputs": [],
   "source": [
    "x = torch.empty(5,3)"
   ]
  },
  {
   "cell_type": "code",
   "execution_count": 3,
   "metadata": {},
   "outputs": [
    {
     "data": {
      "text/plain": [
       "tensor([[ 3.6091e-13,  4.5768e-41, -5.6650e-13],\n",
       "        [ 3.0666e-41,         nan,  0.0000e+00],\n",
       "        [ 7.6194e+31,  1.5564e+28,  4.7984e+30],\n",
       "        [ 6.2121e+22,  1.8370e+25,  1.4603e-19],\n",
       "        [ 1.6795e+08,  4.7423e+30,  4.7393e+30]])"
      ]
     },
     "execution_count": 3,
     "metadata": {},
     "output_type": "execute_result"
    }
   ],
   "source": [
    "x"
   ]
  },
  {
   "cell_type": "code",
   "execution_count": 4,
   "metadata": {},
   "outputs": [
    {
     "name": "stdout",
     "output_type": "stream",
     "text": [
      "tensor([[ 3.6091e-13,  4.5768e-41, -5.6650e-13],\n",
      "        [ 3.0666e-41,         nan,  0.0000e+00],\n",
      "        [ 7.6194e+31,  1.5564e+28,  4.7984e+30],\n",
      "        [ 6.2121e+22,  1.8370e+25,  1.4603e-19],\n",
      "        [ 1.6795e+08,  4.7423e+30,  4.7393e+30]])\n"
     ]
    }
   ],
   "source": [
    "print(x)"
   ]
  },
  {
   "cell_type": "code",
   "execution_count": 5,
   "metadata": {},
   "outputs": [],
   "source": [
    "#生成一个均匀分布的初始化的 每个元素从0-1的张良。\n",
    "x = torch.rand(5,3)"
   ]
  },
  {
   "cell_type": "code",
   "execution_count": 6,
   "metadata": {},
   "outputs": [
    {
     "data": {
      "text/plain": [
       "tensor([[0.1412, 0.0866, 0.0685],\n",
       "        [0.9781, 0.1584, 0.0908],\n",
       "        [0.7473, 0.6790, 0.9851],\n",
       "        [0.6312, 0.7489, 0.3896],\n",
       "        [0.8803, 0.6856, 0.9616]])"
      ]
     },
     "execution_count": 6,
     "metadata": {},
     "output_type": "execute_result"
    }
   ],
   "source": [
    "x"
   ]
  },
  {
   "cell_type": "code",
   "execution_count": 7,
   "metadata": {},
   "outputs": [],
   "source": [
    "x = torch.randn(5,3)"
   ]
  },
  {
   "cell_type": "code",
   "execution_count": 8,
   "metadata": {},
   "outputs": [
    {
     "data": {
      "text/plain": [
       "tensor([[ 0.9731,  1.1318, -0.7469],\n",
       "        [ 0.9416,  0.8847, -1.0151],\n",
       "        [ 0.2489,  0.2659, -0.2523],\n",
       "        [ 0.2151,  0.5830, -0.0403],\n",
       "        [-1.7950, -0.0349, -1.3405]])"
      ]
     },
     "execution_count": 8,
     "metadata": {},
     "output_type": "execute_result"
    }
   ],
   "source": [
    "x"
   ]
  },
  {
   "cell_type": "code",
   "execution_count": 9,
   "metadata": {},
   "outputs": [],
   "source": [
    "x = torch.tensor([5.5,3])\n",
    "y = torch.rand(1,2)"
   ]
  },
  {
   "cell_type": "code",
   "execution_count": 10,
   "metadata": {},
   "outputs": [
    {
     "name": "stdout",
     "output_type": "stream",
     "text": [
      "tensor([[1., 1., 1.],\n",
      "        [1., 1., 1.],\n",
      "        [1., 1., 1.],\n",
      "        [1., 1., 1.],\n",
      "        [1., 1., 1.]], dtype=torch.float64)\n"
     ]
    }
   ],
   "source": [
    "x = x.new_ones(5,3,dtype = torch.double)\n",
    "print(x)"
   ]
  },
  {
   "cell_type": "code",
   "execution_count": 11,
   "metadata": {},
   "outputs": [
    {
     "name": "stdout",
     "output_type": "stream",
     "text": [
      "tensor([[-0.0283, -0.1408,  0.2278],\n",
      "        [-0.6246, -0.6715, -1.6543],\n",
      "        [ 0.0636, -0.3734, -0.6476],\n",
      "        [ 0.7349,  0.0785,  0.3376],\n",
      "        [-0.1963, -0.6158, -0.4567]])\n"
     ]
    }
   ],
   "source": [
    "x = torch.randn_like(x,dtype = torch.float)\n",
    "print(x)"
   ]
  },
  {
   "cell_type": "code",
   "execution_count": 12,
   "metadata": {},
   "outputs": [
    {
     "name": "stdout",
     "output_type": "stream",
     "text": [
      "torch.Size([5, 3])\n"
     ]
    }
   ],
   "source": [
    "print(x.size())"
   ]
  },
  {
   "cell_type": "code",
   "execution_count": 13,
   "metadata": {},
   "outputs": [],
   "source": [
    "y = torch.rand(5,3)"
   ]
  },
  {
   "cell_type": "code",
   "execution_count": 14,
   "metadata": {
    "scrolled": true
   },
   "outputs": [
    {
     "name": "stdout",
     "output_type": "stream",
     "text": [
      "tensor([[ 4.8928e-01,  7.6159e-02,  3.8588e-01],\n",
      "        [-4.0087e-01, -2.0074e-01, -7.9421e-01],\n",
      "        [ 2.3357e-01,  3.4588e-01, -4.4539e-01],\n",
      "        [ 1.6271e+00,  5.5308e-01,  1.1336e+00],\n",
      "        [-1.4273e-03, -2.7928e-01, -2.5047e-01]])\n"
     ]
    }
   ],
   "source": [
    "print(x +y )"
   ]
  },
  {
   "cell_type": "code",
   "execution_count": 15,
   "metadata": {},
   "outputs": [
    {
     "name": "stdout",
     "output_type": "stream",
     "text": [
      "tensor([[ 4.8928e-01,  7.6159e-02,  3.8588e-01],\n",
      "        [-4.0087e-01, -2.0074e-01, -7.9421e-01],\n",
      "        [ 2.3357e-01,  3.4588e-01, -4.4539e-01],\n",
      "        [ 1.6271e+00,  5.5308e-01,  1.1336e+00],\n",
      "        [-1.4273e-03, -2.7928e-01, -2.5047e-01]])\n"
     ]
    }
   ],
   "source": [
    "print(y.add(x))"
   ]
  },
  {
   "cell_type": "code",
   "execution_count": 16,
   "metadata": {},
   "outputs": [
    {
     "name": "stdout",
     "output_type": "stream",
     "text": [
      "tensor([[ 4.8928e-01,  7.6159e-02,  3.8588e-01],\n",
      "        [-4.0087e-01, -2.0074e-01, -7.9421e-01],\n",
      "        [ 2.3357e-01,  3.4588e-01, -4.4539e-01],\n",
      "        [ 1.6271e+00,  5.5308e-01,  1.1336e+00],\n",
      "        [-1.4273e-03, -2.7928e-01, -2.5047e-01]])\n"
     ]
    }
   ],
   "source": [
    "result = torch.empty(5,3)\n",
    "torch.add(x,y,out = result)\n",
    "print(result)"
   ]
  },
  {
   "cell_type": "code",
   "execution_count": 17,
   "metadata": {},
   "outputs": [
    {
     "data": {
      "text/plain": [
       "tensor([-0.1408, -0.6715, -0.3734,  0.0785, -0.6158])"
      ]
     },
     "execution_count": 17,
     "metadata": {},
     "output_type": "execute_result"
    }
   ],
   "source": [
    "x[:,1]"
   ]
  },
  {
   "cell_type": "code",
   "execution_count": 18,
   "metadata": {},
   "outputs": [
    {
     "name": "stdout",
     "output_type": "stream",
     "text": [
      "torch.Size([4, 4]) torch.Size([16]) torch.Size([2, 8])\n"
     ]
    }
   ],
   "source": [
    "x = torch.randn(4,4)\n",
    "y = x.view(16)\n",
    "z = x.view(-1,8)\n",
    "print(x.size(),y.size(),z.size())"
   ]
  },
  {
   "cell_type": "code",
   "execution_count": 19,
   "metadata": {},
   "outputs": [
    {
     "data": {
      "text/plain": [
       "tensor([[ 0.5352,  0.8761,  0.3468,  1.2977],\n",
       "        [ 0.6653,  0.9737, -0.2880,  0.5690],\n",
       "        [ 0.9584, -0.1313,  0.2494,  0.3314],\n",
       "        [ 1.0418,  1.3972,  0.8570,  0.3844]])"
      ]
     },
     "execution_count": 19,
     "metadata": {},
     "output_type": "execute_result"
    }
   ],
   "source": [
    "x"
   ]
  },
  {
   "cell_type": "code",
   "execution_count": 20,
   "metadata": {},
   "outputs": [
    {
     "data": {
      "text/plain": [
       "tensor([ 0.5352,  0.8761,  0.3468,  1.2977,  0.6653,  0.9737, -0.2880,  0.5690,\n",
       "         0.9584, -0.1313,  0.2494,  0.3314,  1.0418,  1.3972,  0.8570,  0.3844])"
      ]
     },
     "execution_count": 20,
     "metadata": {},
     "output_type": "execute_result"
    }
   ],
   "source": [
    "y"
   ]
  },
  {
   "cell_type": "code",
   "execution_count": 21,
   "metadata": {},
   "outputs": [
    {
     "data": {
      "text/plain": [
       "tensor([[ 0.5352,  0.8761,  0.3468,  1.2977,  0.6653,  0.9737, -0.2880,  0.5690],\n",
       "        [ 0.9584, -0.1313,  0.2494,  0.3314,  1.0418,  1.3972,  0.8570,  0.3844]])"
      ]
     },
     "execution_count": 21,
     "metadata": {},
     "output_type": "execute_result"
    }
   ],
   "source": [
    "z"
   ]
  },
  {
   "cell_type": "code",
   "execution_count": 22,
   "metadata": {},
   "outputs": [],
   "source": [
    "x = x.view(2,8)"
   ]
  },
  {
   "cell_type": "code",
   "execution_count": 23,
   "metadata": {},
   "outputs": [
    {
     "data": {
      "text/plain": [
       "tensor([[ 0.5352,  0.8761,  0.3468,  1.2977,  0.6653,  0.9737, -0.2880,  0.5690],\n",
       "        [ 0.9584, -0.1313,  0.2494,  0.3314,  1.0418,  1.3972,  0.8570,  0.3844]])"
      ]
     },
     "execution_count": 23,
     "metadata": {},
     "output_type": "execute_result"
    }
   ],
   "source": [
    "x"
   ]
  },
  {
   "cell_type": "code",
   "execution_count": 24,
   "metadata": {},
   "outputs": [
    {
     "name": "stdout",
     "output_type": "stream",
     "text": [
      "tensor([1., 1., 1., 1., 1.])\n"
     ]
    }
   ],
   "source": [
    "a = torch.ones(5)\n",
    "print(a)"
   ]
  },
  {
   "cell_type": "code",
   "execution_count": 25,
   "metadata": {},
   "outputs": [],
   "source": [
    "b = a.numpy()"
   ]
  },
  {
   "cell_type": "code",
   "execution_count": 26,
   "metadata": {},
   "outputs": [
    {
     "data": {
      "text/plain": [
       "array([1., 1., 1., 1., 1.], dtype=float32)"
      ]
     },
     "execution_count": 26,
     "metadata": {},
     "output_type": "execute_result"
    }
   ],
   "source": [
    "b"
   ]
  },
  {
   "cell_type": "code",
   "execution_count": 27,
   "metadata": {},
   "outputs": [
    {
     "data": {
      "text/plain": [
       "False"
      ]
     },
     "execution_count": 27,
     "metadata": {},
     "output_type": "execute_result"
    }
   ],
   "source": [
    "torch.is_tensor(b)"
   ]
  },
  {
   "cell_type": "code",
   "execution_count": 28,
   "metadata": {},
   "outputs": [
    {
     "name": "stdout",
     "output_type": "stream",
     "text": [
      "tensor([2., 2., 2., 2., 2.])\n",
      "[2. 2. 2. 2. 2.]\n"
     ]
    }
   ],
   "source": [
    "a.add_(1)\n",
    "print(a)\n",
    "print(b)"
   ]
  },
  {
   "cell_type": "code",
   "execution_count": 41,
   "metadata": {},
   "outputs": [
    {
     "name": "stdout",
     "output_type": "stream",
     "text": [
      "tensor([[ 1.6394,  0.9043,  1.8778,  1.8209,  1.5527, -0.1066,  1.1651,  2.7963],\n",
      "        [ 2.3441,  2.0095,  1.8648, -1.0236, -1.1168,  1.6763,  1.8349, -1.2058]],\n",
      "       device='cuda:0')\n",
      "tensor([[ 1.6394,  0.9043,  1.8778,  1.8209,  1.5527, -0.1066,  1.1651,  2.7963],\n",
      "        [ 2.3441,  2.0095,  1.8648, -1.0236, -1.1168,  1.6763,  1.8349, -1.2058]],\n",
      "       dtype=torch.float64)\n"
     ]
    }
   ],
   "source": [
    "import time\n",
    "if torch.cuda.is_available():\n",
    "    device = torch.device(\"cuda\")          \n",
    "    y = torch.ones_like(x, device=device)  \n",
    "    x = x.to(device)   \n",
    "    z = x + y\n",
    "    print(z)\n",
    "    print(z.to(\"cpu\", torch.double))       \n"
   ]
  },
  {
   "cell_type": "code",
   "execution_count": 30,
   "metadata": {},
   "outputs": [],
   "source": [
    "import numpy as np"
   ]
  },
  {
   "cell_type": "code",
   "execution_count": 31,
   "metadata": {},
   "outputs": [
    {
     "name": "stdout",
     "output_type": "stream",
     "text": [
      "[2. 2. 2. 2. 2.]\n",
      "tensor([2., 2., 2., 2., 2.], dtype=torch.float64)\n"
     ]
    },
    {
     "data": {
      "text/plain": [
       "'\\n[2. 2. 2. 2. 2.]\\ntensor([2., 2., 2., 2., 2.], dtype=torch.float64)\\n'"
      ]
     },
     "execution_count": 31,
     "metadata": {},
     "output_type": "execute_result"
    }
   ],
   "source": [
    "\n",
    "a = np.ones(5)\n",
    "b = torch.from_numpy(a)\n",
    "np.add(a, 1, out=a)\n",
    "print(a)\n",
    "print(b)\n",
    "\"\"\"\n",
    "[2. 2. 2. 2. 2.]\n",
    "tensor([2., 2., 2., 2., 2.], dtype=torch.float64)\n",
    "\"\"\"\n"
   ]
  },
  {
   "cell_type": "code",
   "execution_count": 36,
   "metadata": {},
   "outputs": [
    {
     "data": {
      "text/plain": [
       "(tensor([[ 0.5352,  0.8761,  0.3468,  1.2977,  0.6653,  0.9737, -0.2880,  0.5690],\n",
       "         [ 0.9584, -0.1313,  0.2494,  0.3314,  1.0418,  1.3972,  0.8570,  0.3844]],\n",
       "        device='cuda:0'),\n",
       " tensor([[1., 1., 1., 1., 1., 1., 1., 1.],\n",
       "         [1., 1., 1., 1., 1., 1., 1., 1.]], device='cuda:0'))"
      ]
     },
     "execution_count": 36,
     "metadata": {},
     "output_type": "execute_result"
    }
   ],
   "source": [
    "x,y"
   ]
  },
  {
   "cell_type": "code",
   "execution_count": 37,
   "metadata": {},
   "outputs": [],
   "source": []
  },
  {
   "cell_type": "code",
   "execution_count": 38,
   "metadata": {},
   "outputs": [],
   "source": []
  },
  {
   "cell_type": "code",
   "execution_count": 39,
   "metadata": {},
   "outputs": [
    {
     "data": {
      "text/plain": [
       "0.0011506080627441406"
      ]
     },
     "execution_count": 39,
     "metadata": {},
     "output_type": "execute_result"
    }
   ],
   "source": []
  },
  {
   "cell_type": "code",
   "execution_count": null,
   "metadata": {},
   "outputs": [],
   "source": []
  }
 ],
 "metadata": {
  "kernelspec": {
   "display_name": "Python 3",
   "language": "python",
   "name": "python3"
  },
  "language_info": {
   "codemirror_mode": {
    "name": "ipython",
    "version": 3
   },
   "file_extension": ".py",
   "mimetype": "text/x-python",
   "name": "python",
   "nbconvert_exporter": "python",
   "pygments_lexer": "ipython3",
   "version": "3.6.10"
  },
  "widgets": {
   "application/vnd.jupyter.widget-state+json": {
    "state": {},
    "version_major": 2,
    "version_minor": 0
   }
  }
 },
 "nbformat": 4,
 "nbformat_minor": 4
}
